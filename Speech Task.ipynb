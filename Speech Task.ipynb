{
 "cells": [
  {
   "cell_type": "code",
   "execution_count": 1,
   "id": "29527193",
   "metadata": {},
   "outputs": [
    {
     "name": "stdout",
     "output_type": "stream",
     "text": [
      "Requirement already satisfied: SpeechRecognition in d:\\python\\lib\\site-packages (3.10.0)\n",
      "Requirement already satisfied: requests>=2.26.0 in d:\\python\\lib\\site-packages (from SpeechRecognition) (2.27.1)\n",
      "Requirement already satisfied: charset-normalizer~=2.0.0 in d:\\python\\lib\\site-packages (from requests>=2.26.0->SpeechRecognition) (2.0.4)\n",
      "Requirement already satisfied: urllib3<1.27,>=1.21.1 in d:\\python\\lib\\site-packages (from requests>=2.26.0->SpeechRecognition) (1.26.9)\n",
      "Requirement already satisfied: certifi>=2017.4.17 in d:\\python\\lib\\site-packages (from requests>=2.26.0->SpeechRecognition) (2021.10.8)\n",
      "Requirement already satisfied: idna<4,>=2.5 in d:\\python\\lib\\site-packages (from requests>=2.26.0->SpeechRecognition) (2.10)\n",
      "Requirement already satisfied: gTTS in d:\\python\\lib\\site-packages (2.3.2)\n",
      "Requirement already satisfied: requests<3,>=2.27 in d:\\python\\lib\\site-packages (from gTTS) (2.27.1)\n",
      "Requirement already satisfied: click<8.2,>=7.1 in d:\\python\\lib\\site-packages (from gTTS) (8.0.4)\n",
      "Requirement already satisfied: colorama in d:\\python\\lib\\site-packages (from click<8.2,>=7.1->gTTS) (0.4.4)\n",
      "Requirement already satisfied: urllib3<1.27,>=1.21.1 in d:\\python\\lib\\site-packages (from requests<3,>=2.27->gTTS) (1.26.9)\n",
      "Requirement already satisfied: certifi>=2017.4.17 in d:\\python\\lib\\site-packages (from requests<3,>=2.27->gTTS) (2021.10.8)\n",
      "Requirement already satisfied: charset-normalizer~=2.0.0 in d:\\python\\lib\\site-packages (from requests<3,>=2.27->gTTS) (2.0.4)\n",
      "Requirement already satisfied: idna<4,>=2.5 in d:\\python\\lib\\site-packages (from requests<3,>=2.27->gTTS) (2.10)\n",
      "Requirement already satisfied: googletrans==3.1.0a0 in d:\\python\\lib\\site-packages (3.1.0a0)\n",
      "Requirement already satisfied: httpx==0.13.3 in d:\\python\\lib\\site-packages (from googletrans==3.1.0a0) (0.13.3)\n",
      "Requirement already satisfied: certifi in d:\\python\\lib\\site-packages (from httpx==0.13.3->googletrans==3.1.0a0) (2021.10.8)\n",
      "Requirement already satisfied: httpcore==0.9.* in d:\\python\\lib\\site-packages (from httpx==0.13.3->googletrans==3.1.0a0) (0.9.1)\n",
      "Requirement already satisfied: idna==2.* in d:\\python\\lib\\site-packages (from httpx==0.13.3->googletrans==3.1.0a0) (2.10)\n",
      "Requirement already satisfied: sniffio in d:\\python\\lib\\site-packages (from httpx==0.13.3->googletrans==3.1.0a0) (1.2.0)\n",
      "Requirement already satisfied: hstspreload in d:\\python\\lib\\site-packages (from httpx==0.13.3->googletrans==3.1.0a0) (2023.1.1)\n",
      "Requirement already satisfied: chardet==3.* in d:\\python\\lib\\site-packages (from httpx==0.13.3->googletrans==3.1.0a0) (3.0.4)\n",
      "Requirement already satisfied: rfc3986<2,>=1.3 in d:\\python\\lib\\site-packages (from httpx==0.13.3->googletrans==3.1.0a0) (1.5.0)\n",
      "Requirement already satisfied: h11<0.10,>=0.8 in d:\\python\\lib\\site-packages (from httpcore==0.9.*->httpx==0.13.3->googletrans==3.1.0a0) (0.9.0)\n",
      "Requirement already satisfied: h2==3.* in d:\\python\\lib\\site-packages (from httpcore==0.9.*->httpx==0.13.3->googletrans==3.1.0a0) (3.2.0)\n",
      "Requirement already satisfied: hpack<4,>=3.0 in d:\\python\\lib\\site-packages (from h2==3.*->httpcore==0.9.*->httpx==0.13.3->googletrans==3.1.0a0) (3.0.0)\n",
      "Requirement already satisfied: hyperframe<6,>=5.2.0 in d:\\python\\lib\\site-packages (from h2==3.*->httpcore==0.9.*->httpx==0.13.3->googletrans==3.1.0a0) (5.2.0)\n"
     ]
    }
   ],
   "source": [
    "!pip install SpeechRecognition\n",
    "!pip install gTTS\n",
    "!pip install googletrans==3.1.0a0\n"
   ]
  },
  {
   "cell_type": "code",
   "execution_count": null,
   "id": "3467ed0b",
   "metadata": {},
   "outputs": [],
   "source": [
    "import speech_recognition as sr\n",
    "from googletrans import Translator\n",
    "import webbrowser\n",
    "from gtts import gTTS"
   ]
  },
  {
   "cell_type": "code",
   "execution_count": 2,
   "id": "872ad45b",
   "metadata": {},
   "outputs": [
    {
     "name": "stdout",
     "output_type": "stream",
     "text": [
      "English Text: I only recently learnt how to drive when it was really hard now as a cognitive science this is because I was using a light of something called exactly function exactly function is a amazing course like you have to understand how its influence by contacting your contacts and running\n"
     ]
    }
   ],
   "source": [
    "\n",
    "\n",
    "def speech_to_text(audio_file_path):\n",
    "    recognizer = sr.Recognizer()\n",
    "\n",
    "    with sr.AudioFile(audio_file_path) as source:\n",
    "        audio = recognizer.record(source)\n",
    "\n",
    "    try:\n",
    "        text = recognizer.recognize_google(audio, language='en-US')\n",
    "        return text\n",
    "    except sr.UnknownValueError:\n",
    "        print(\"Could not understand the audio.\")\n",
    "        return None\n",
    "    except sr.RequestError as e:\n",
    "        print(\"Error occurred; {0}\".format(e))\n",
    "        return None\n",
    "\n",
    "if __name__ == \"__main__\":\n",
    "    english_audio_file_path = \"C:/Users/AAISHA KAHN/Downloads/How to improve your brains executive function shorts tedx_vZ46Ov1zncY.wav\"\n",
    "    english_text = speech_to_text(english_audio_file_path)\n",
    "    if english_text:\n",
    "        print(\"English Text:\", english_text)\n"
   ]
  },
  {
   "cell_type": "code",
   "execution_count": 3,
   "id": "59149aef",
   "metadata": {},
   "outputs": [
    {
     "name": "stdout",
     "output_type": "stream",
     "text": [
      "Hindi Text: मैंने अभी हाल ही में गाड़ी चलाना सीखा है जब यह वास्तव में कठिन था, अब एक संज्ञानात्मक विज्ञान के रूप में ऐसा इसलिए है क्योंकि मैं किसी चीज़ की रोशनी का उपयोग कर रहा था जिसे सटीक फ़ंक्शन कहा जाता है, सटीक फ़ंक्शन एक अद्भुत कोर्स है जैसे आपको यह समझना होगा कि आपके संपर्कों से संपर्क करके और चलाकर इसका प्रभाव कैसा है\n"
     ]
    }
   ],
   "source": [
    "\n",
    "\n",
    "def translate_to_hindi(english_text):\n",
    "    translator = Translator()\n",
    "    translated_text = translator.translate(english_text, src='en', dest='hi')\n",
    "    return translated_text.text\n",
    "\n",
    "if __name__ == \"__main__\":\n",
    "    english_text = \"I only recently learnt how to drive when it was really hard now as a cognitive science this is because I was using a light of something called exactly function exactly function is a amazing course like you have to understand how its influence by contacting your contacts and running\"  # Replace this with the English text from speech-to-text\n",
    "    hindi_text = translate_to_hindi(english_text)\n",
    "    print(\"Hindi Text:\", hindi_text)"
   ]
  },
  {
   "cell_type": "code",
   "execution_count": 5,
   "id": "21d31f37",
   "metadata": {},
   "outputs": [],
   "source": [
    "\n",
    "\n",
    "def text_to_speech_hindi(hindi_text, output_file_path):\n",
    "    tts = gTTS(hindi_text, lang='hi')\n",
    "    tts.save(output_file_path)\n",
    "\n",
    "if __name__ == \"__main__\":\n",
    "    hindi_text = \"मैंने अभी हाल ही में गाड़ी चलाना सीखा है जब यह वास्तव में कठिन था, अब एक संज्ञानात्मक विज्ञान के रूप में ऐसा इसलिए है क्योंकि मैं किसी चीज़ की रोशनी का उपयोग कर रही थी जिसे सटीक फ़ंक्शन कहा जाता है, सटीक फ़ंक्शन एक अद्भुत कोर्स है जैसे आपको यह समझना होगा कि आपके संपर्कों से संपर्क करके और चलाकर इसका प्रभाव कैसा है?\"  # Replace this with the Hindi text from translation\n",
    "    hindi_audio_output_file_path = \"output_hindi.mp3\"\n",
    "    text_to_speech_hindi(hindi_text, hindi_audio_output_file_path)\n",
    "\n",
    "    webbrowser.open(hindi_audio_output_file_path)"
   ]
  },
  {
   "cell_type": "code",
   "execution_count": null,
   "id": "88ffc7cf",
   "metadata": {},
   "outputs": [],
   "source": []
  },
  {
   "cell_type": "code",
   "execution_count": null,
   "id": "80ffb2e2",
   "metadata": {},
   "outputs": [],
   "source": []
  }
 ],
 "metadata": {
  "kernelspec": {
   "display_name": "Python 3 (ipykernel)",
   "language": "python",
   "name": "python3"
  },
  "language_info": {
   "codemirror_mode": {
    "name": "ipython",
    "version": 3
   },
   "file_extension": ".py",
   "mimetype": "text/x-python",
   "name": "python",
   "nbconvert_exporter": "python",
   "pygments_lexer": "ipython3",
   "version": "3.9.12"
  }
 },
 "nbformat": 4,
 "nbformat_minor": 5
}
